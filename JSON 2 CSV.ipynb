{
 "cells": [
  {
   "cell_type": "code",
   "execution_count": 67,
   "id": "806390d2",
   "metadata": {},
   "outputs": [],
   "source": [
    "import json\n",
    "\n",
    "# Initialize an empty list to store the parsed JSON objects\n",
    "data_f = []\n",
    "\n",
    "# Read the JSON file line by line\n",
    "with open('/Users/MaralAmiri/Downloads/AMAZON_FASHION_5.json') as f:\n",
    "    for line in f:\n",
    "        # Parse each line as JSON and append it to the data list\n",
    "        data_f.append(json.loads(line))\n"
   ]
  },
  {
   "cell_type": "code",
   "execution_count": 68,
   "id": "08cccab0",
   "metadata": {},
   "outputs": [],
   "source": [
    "Fashion= []\n",
    "for entry in data_f:\n",
    "    if 'reviewText' in entry and 'vote' in entry and 'overall' in entry :\n",
    "        \n",
    "        Fashion.append(['fashion',entry['reviewText'], entry['vote'] , entry['overall']])\n",
    "        "
   ]
  },
  {
   "cell_type": "code",
   "execution_count": 69,
   "id": "e3f6b865",
   "metadata": {},
   "outputs": [],
   "source": [
    "data = []\n",
    "\n",
    "# Read the JSON file line by line\n",
    "with open('/Users/mosaleh/Downloads/Electronics_5.json') as f:\n",
    "    for line in f:\n",
    "        # Parse each line as JSON and append it to the data list\n",
    "        data.append(json.loads(line))"
   ]
  },
  {
   "cell_type": "code",
   "execution_count": 70,
   "id": "0867ae88",
   "metadata": {},
   "outputs": [],
   "source": [
    "Electronics= []\n",
    "for entry in data:\n",
    "    if 'reviewText' in entry and 'vote' in entry and 'overall' in entry :\n",
    "        \n",
    "        Electronics.append(['electronics',entry['reviewText'], entry['vote'] , entry['overall']])\n",
    "        "
   ]
  },
  {
   "cell_type": "code",
   "execution_count": 71,
   "id": "7812a499",
   "metadata": {},
   "outputs": [],
   "source": [
    "data_b = []\n",
    "\n",
    "# Read the JSON file line by line\n",
    "with open('/Users/mosaleh/Downloads/All_Beauty_5.json') as f:\n",
    "    for line in f:\n",
    "        # Parse each line as JSON and append it to the data list\n",
    "        data_b.append(json.loads(line))\n",
    "Beauty= []\n",
    "for entry in data_b:\n",
    "    if 'reviewText' in entry and 'vote' in entry and 'overall' in entry :\n",
    "        \n",
    "        Beauty.append(['beauty',entry['reviewText'], entry['vote'] , entry['overall']])"
   ]
  },
  {
   "cell_type": "code",
   "execution_count": 72,
   "id": "b3824966",
   "metadata": {},
   "outputs": [],
   "source": [
    "data_office = []\n",
    "\n",
    "# Read the JSON file line by line\n",
    "with open('/Users/mosaleh/Downloads/Office_Products_5.json') as f:\n",
    "    for line in f:\n",
    "        # Parse each line as JSON and append it to the data list\n",
    "        data_office.append(json.loads(line))\n",
    "office= []\n",
    "for entry in data_office:\n",
    "    if 'reviewText' in entry and 'vote' in entry and 'overall' in entry :\n",
    "        \n",
    "        office.append(['office',entry['reviewText'], entry['vote'] , entry['overall']])"
   ]
  },
  {
   "cell_type": "code",
   "execution_count": 74,
   "id": "cc5435e3",
   "metadata": {},
   "outputs": [],
   "source": [
    "lux_beauty = []\n",
    "\n",
    "# Read the JSON file line by line\n",
    "with open('/Users/mosaleh/Downloads/Luxury_Beauty_5.json') as f:\n",
    "    for line in f:\n",
    "        # Parse each line as JSON and append it to the data list\n",
    "        lux_beauty.append(json.loads(line))\n",
    "lux= []\n",
    "for entry in lux_beauty:\n",
    "    if 'reviewText' in entry and 'vote' in entry and 'overall' in entry :\n",
    "        \n",
    "        lux.append(['luxuryb',entry['reviewText'], entry['vote'] , entry['overall']])"
   ]
  },
  {
   "cell_type": "code",
   "execution_count": 76,
   "id": "cbea8656",
   "metadata": {},
   "outputs": [],
   "source": [
    "toys_data = []\n",
    "\n",
    "# Read the JSON file line by line\n",
    "with open('/Users/mosaleh/Downloads/Toys_and_Games_5.json') as f:\n",
    "    for line in f:\n",
    "        # Parse each line as JSON and append it to the data list\n",
    "        toys_data.append(json.loads(line))\n",
    "toys= []\n",
    "for entry in toys_data:\n",
    "    if 'reviewText' in entry and 'vote' in entry and 'overall' in entry :\n",
    "        \n",
    "        toys.append(['toys',entry['reviewText'], entry['vote'] , entry['overall']])"
   ]
  },
  {
   "cell_type": "code",
   "execution_count": 77,
   "id": "eb2b0407",
   "metadata": {},
   "outputs": [],
   "source": [
    "import re\n",
    "\n",
    "def remove_html_tags(text):\n",
    "    # Regular expression to remove HTML tags\n",
    "    html_tags = re.compile(r'<[^>]+>')\n",
    "    return html_tags.sub('', text)\n"
   ]
  },
  {
   "cell_type": "code",
   "execution_count": 97,
   "id": "c72c9c42",
   "metadata": {},
   "outputs": [],
   "source": [
    "\n",
    "all_data =  Fashion + Electronics + office + lux +  toys + Beauty"
   ]
  },
  {
   "cell_type": "code",
   "execution_count": 98,
   "id": "794fceed",
   "metadata": {},
   "outputs": [],
   "source": [
    "clean_data = []\n",
    "for i in range(len(all_data)) :\n",
    "    line_without_html = remove_html_tags(all_data[i][1])\n",
    "    if line_without_html == all_data[i][1] :\n",
    "            clean_data.append(all_data[i])"
   ]
  },
  {
   "cell_type": "code",
   "execution_count": 99,
   "id": "49f8507e",
   "metadata": {},
   "outputs": [],
   "source": [
    "import pandas as pd\n",
    "\n",
    "# Example nested list\n",
    "\n",
    "# Define column names\n",
    "columns = ['type', 'reviewText', 'vote', 'overall']\n",
    "\n",
    "# Create DataFrame\n",
    "df = pd.DataFrame(clean_data, columns=columns)"
   ]
  },
  {
   "cell_type": "code",
   "execution_count": 100,
   "id": "95d77e87",
   "metadata": {},
   "outputs": [],
   "source": [
    "df.to_csv('review_data.csv')"
   ]
  },
  {
   "cell_type": "code",
   "execution_count": 101,
   "id": "f36d5f95",
   "metadata": {},
   "outputs": [
    {
     "data": {
      "text/plain": [
       "type       \n",
       "electronics    916996\n",
       "toys           203189\n",
       "office          86254\n",
       "luxuryb          6413\n",
       "beauty            545\n",
       "fashion           297\n",
       "Name: count, dtype: int64"
      ]
     },
     "execution_count": 101,
     "metadata": {},
     "output_type": "execute_result"
    }
   ],
   "source": [
    "df[['type']].value_counts()"
   ]
  },
  {
   "cell_type": "code",
   "execution_count": null,
   "id": "3cd7c7b9",
   "metadata": {},
   "outputs": [],
   "source": [
    "top_k_df = df.groupby('type').head(k)\n",
    "\n",
    "# Reset index\n",
    "top_k_df.reset_index(drop=True, inplace=True)"
   ]
  },
  {
   "cell_type": "code",
   "execution_count": 104,
   "id": "66913b02",
   "metadata": {},
   "outputs": [],
   "source": [
    "elect= df[df['type'] == 'electronics'].head(2300)\n",
    "toys= df[df['type'] == 'toys'].head(2300)\n",
    "office= df[df['type'] == 'office'].head(2300)\n",
    "luxuryb= df[df['type'] == 'luxuryb'].head(2300)"
   ]
  },
  {
   "cell_type": "code",
   "execution_count": 105,
   "id": "61b72d48",
   "metadata": {},
   "outputs": [],
   "source": [
    "result = pd.concat([elect, toys, office, luxuryb ,df[df['type'] == 'beauty'] , df[df['type'] == 'fashion'] ], axis=0, ignore_index=True)\n",
    "\n",
    "\n"
   ]
  },
  {
   "cell_type": "code",
   "execution_count": 109,
   "id": "a4de0eef",
   "metadata": {},
   "outputs": [],
   "source": [
    "result.to_csv('/Users/MaralAmiri/Downloads/allReviews.csv')"
   ]
  }
 ],
 "metadata": {
  "kernelspec": {
   "display_name": "Python 3 (ipykernel)",
   "language": "python",
   "name": "python3"
  },
  "language_info": {
   "codemirror_mode": {
    "name": "ipython",
    "version": 3
   },
   "file_extension": ".py",
   "mimetype": "text/x-python",
   "name": "python",
   "nbconvert_exporter": "python",
   "pygments_lexer": "ipython3",
   "version": "3.10.9"
  }
 },
 "nbformat": 4,
 "nbformat_minor": 5
}
